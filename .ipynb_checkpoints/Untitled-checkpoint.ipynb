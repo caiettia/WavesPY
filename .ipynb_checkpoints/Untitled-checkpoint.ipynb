{
 "cells": [
  {
   "cell_type": "code",
   "execution_count": 2,
   "id": "51381dd5-e1ad-47ad-ae3a-558a42eff946",
   "metadata": {},
   "outputs": [
    {
     "name": "stdout",
     "output_type": "stream",
     "text": [
      "Hello, World\n"
     ]
    }
   ],
   "source": [
    "console.log(\"Hello, World\");"
   ]
  },
  {
   "cell_type": "code",
   "execution_count": 3,
   "id": "8f1a4c77-208c-4e15-af67-25e1a02853b0",
   "metadata": {},
   "outputs": [
    {
     "name": "stdout",
     "output_type": "stream",
     "text": [
      "8\n"
     ]
    }
   ],
   "source": [
    "function add(a,b){\n",
    "return a+ b;\n",
    "}\n",
    "\n",
    "console.log(add(5,3));"
   ]
  },
  {
   "cell_type": "code",
   "execution_count": null,
   "id": "6d4dd266-3e38-4409-b9ba-c77a44e948eb",
   "metadata": {},
   "outputs": [],
   "source": []
  }
 ],
 "metadata": {
  "kernelspec": {
   "display_name": "JavaScript (Node.js)",
   "language": "javascript",
   "name": "javascript"
  },
  "language_info": {
   "file_extension": ".js",
   "mimetype": "application/javascript",
   "name": "javascript",
   "version": "14.17.6"
  }
 },
 "nbformat": 4,
 "nbformat_minor": 5
}
